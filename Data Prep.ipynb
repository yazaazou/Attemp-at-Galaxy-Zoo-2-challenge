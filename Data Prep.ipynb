{
 "cells": [
  {
   "cell_type": "code",
   "execution_count": 1,
   "metadata": {},
   "outputs": [],
   "source": [
    "import os as os\n",
    "import sys\n",
    "import tensorflow as tf\n",
    "\n",
    "from keras.models import Sequential\n",
    "from keras.layers import Dense, Conv2D, Flatten, MaxPool2D, Dropout, BatchNormalization,Activation\n",
    "from keras.preprocessing.image import img_to_array, ImageDataGenerator, array_to_img\n",
    "\n",
    "import matplotlib.pyplot as plt\n",
    "from matplotlib import image\n",
    "import sklearn.model_selection \n",
    "\n",
    "import pandas as pd\n",
    "import numpy as np\n",
    "from PIL import Image"
   ]
  },
  {
   "cell_type": "markdown",
   "metadata": {},
   "source": [
    "## One-hot-encode data"
   ]
  },
  {
   "cell_type": "code",
   "execution_count": 5,
   "metadata": {},
   "outputs": [],
   "source": [
    "def one_hot_encode(file,index):\n",
    "    for i in range(len(index)):\n",
    "        row = file.loc[index[i]]\n",
    "        for j in range(len(row)):\n",
    "            if row[j] == max(row):\n",
    "                row[j] = 1\n",
    "            else:\n",
    "                row[j]=0\n",
    "            file.loc[index[i]] = row\n",
    "    return training"
   ]
  },
  {
   "cell_type": "code",
   "execution_count": 6,
   "metadata": {},
   "outputs": [],
   "source": [
    "os.chdir(r\"Galaxy Zoo\")\n",
    "#Read in labels\n",
    "training = pd.read_csv( 'q1.csv');\n",
    "index = np.array(training['GalaxyID'])\n",
    "training = training.set_index('GalaxyID')\n",
    "\n",
    "one_hot_encode(training,index).to_csv(\"q1_one_hot_encoded.csv\")"
   ]
  },
  {
   "cell_type": "markdown",
   "metadata": {},
   "source": [
    "## Resize images"
   ]
  },
  {
   "cell_type": "code",
   "execution_count": null,
   "metadata": {},
   "outputs": [],
   "source": [
    "os.chdir(r\"Galaxy Zoo\\Training\\images_training_rev1\")\n",
    "files= os.listdir()\n",
    "for i in range(len(files)):\n",
    "    os.chdir(r\"Galaxy Zoo\\Training\\images_training_rev1\")\n",
    "    img = image.imread(files[i])\n",
    "    pil_Img= Image.fromarray(img)\n",
    "    resized= pil_Img.resize((212,212))\n",
    "    os.chdir(r\"Galaxy Zoo\\Training\\compress\")\n",
    "    file_name= str(files[i][:-4] +'.png')\n",
    "    resized.save(file_name, optimize=True,quality =50)\n"
   ]
  }
 ],
 "metadata": {
  "kernelspec": {
   "display_name": "Python 3",
   "language": "python",
   "name": "python3"
  },
  "language_info": {
   "codemirror_mode": {
    "name": "ipython",
    "version": 3
   },
   "file_extension": ".py",
   "mimetype": "text/x-python",
   "name": "python",
   "nbconvert_exporter": "python",
   "pygments_lexer": "ipython3",
   "version": "3.8.3"
  }
 },
 "nbformat": 4,
 "nbformat_minor": 4
}
