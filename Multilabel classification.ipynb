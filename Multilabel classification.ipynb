{
 "cells": [
  {
   "cell_type": "code",
   "execution_count": null,
   "metadata": {},
   "outputs": [],
   "source": [
    "import os as os\n",
    "import sys\n",
    "import tensorflow as tf\n",
    "\n",
    "from keras.models import Sequential\n",
    "from keras.layers import Dense, Conv2D, Flatten, MaxPool2D, Dropout, BatchNormalization,Activation\n",
    "from keras.preprocessing.image import img_to_array, ImageDataGenerator, array_to_img\n",
    "from keras import initializers\n",
    "from keras.callbacks import EarlyStopping\n",
    "\n",
    "import matplotlib.pyplot as plt\n",
    "from matplotlib import image\n",
    "import sklearn.model_selection \n",
    "\n",
    "import pandas as pd\n",
    "import numpy as np\n",
    "from PIL import Image"
   ]
  },
  {
   "cell_type": "code",
   "execution_count": null,
   "metadata": {},
   "outputs": [],
   "source": [
    "os.chdir(r\"Galaxy Zoo\")\n",
    "#Read in labels\n",
    "training = pd.read_csv( 'classification_labels.csv');\n",
    "index = np.array(training['GalaxyID'])\n",
    "training = training.set_index('GalaxyID')"
   ]
  },
  {
   "cell_type": "code",
   "execution_count": null,
   "metadata": {},
   "outputs": [],
   "source": [
    "def prep_data(m,n,shuffle=False):\n",
    "    files= os.listdir() #File names\n",
    "    if shuffle==True:\n",
    "        np.random.shuffle(files)\n",
    "    sample= files[m:n] #Use a sample from total data\n",
    "    images_array = []\n",
    "    probs  = []\n",
    "\n",
    "    for i in range(len(sample)):\n",
    "        images_array.append(image.imread(sample[i])) #Read in image\n",
    "        j= int(sample[i][:-4]) #Location in dataframe\n",
    "        probs.append(np.array(training.loc[j])) #Corresponding label row\n",
    "\n",
    "    images = np.array(images_array)  \n",
    "    labels = np.array(probs)\n",
    "    \n",
    "    return images, labels"
   ]
  },
  {
   "cell_type": "code",
   "execution_count": null,
   "metadata": {},
   "outputs": [],
   "source": [
    "#Directory where images are stored\n",
    "os.chdir(r\"Galaxy Zoo\\Training\\compress\")"
   ]
  },
  {
   "cell_type": "code",
   "execution_count": null,
   "metadata": {},
   "outputs": [],
   "source": [
    "m=0\n",
    "n=7000\n",
    "train_images, train_labels=prep_data(m,n)"
   ]
  },
  {
   "cell_type": "code",
   "execution_count": null,
   "metadata": {},
   "outputs": [],
   "source": [
    "cnn=Sequential()\n",
    "\n",
    "cnn.add(Conv2D(48, [5, 5], input_shape=(212, 212, 3), activation='relu'))\n",
    "cnn.add(MaxPool2D([3, 3], [3, 3]))\n",
    "\n",
    "cnn.add(Conv2D(96, [5, 5], activation='relu'))\n",
    "cnn.add(MaxPool2D([2, 2], [2, 2]))\n",
    "\n",
    "cnn.add(Conv2D(192, [3, 3], activation='relu'))\n",
    "\n",
    "cnn.add(Conv2D(192, [3, 3], activation='relu'))\n",
    "\n",
    "cnn.add(Conv2D(384, [3, 3], activation='relu'))\n",
    "\n",
    "cnn.add(Conv2D(384, [3, 3], activation='relu'))\n",
    "cnn.add(MaxPool2D([3, 3], [3, 3] ))\n",
    "\n",
    "cnn.add(Dense(2048, activation='relu'))\n",
    "cnn.add(Dropout(0.5))\n",
    "\n",
    "cnn.add(Dense(2048, activation='relu'))\n",
    "cnn.add(Dropout(0.5))\n",
    "cnn.add(Flatten())\n",
    "\n",
    "cnn.add(Dense(37, activation='sigmoid'))"
   ]
  },
  {
   "cell_type": "code",
   "execution_count": null,
   "metadata": {},
   "outputs": [],
   "source": [
    "cnn.compile(optimizer='adam', \n",
    "              loss=\"binary_crossentropy\", \n",
    "              metrics=['accuracy'])\n",
    "\n",
    "cnn.summary()"
   ]
  },
  {
   "cell_type": "code",
   "execution_count": null,
   "metadata": {},
   "outputs": [],
   "source": [
    "callback = EarlyStopping(monitor='accuracy', patience=2)\n",
    "cnn.fit(train_images, train_labels,batch_size=32,epochs=16,validation_split=0.25,callbacks=[callback])"
   ]
  },
  {
   "cell_type": "code",
   "execution_count": null,
   "metadata": {},
   "outputs": [],
   "source": []
  }
 ],
 "metadata": {
  "kernelspec": {
   "display_name": "Python 3",
   "language": "python",
   "name": "python3"
  },
  "language_info": {
   "codemirror_mode": {
    "name": "ipython",
    "version": 3
   },
   "file_extension": ".py",
   "mimetype": "text/x-python",
   "name": "python",
   "nbconvert_exporter": "python",
   "pygments_lexer": "ipython3",
   "version": "3.8.3"
  }
 },
 "nbformat": 4,
 "nbformat_minor": 2
}
